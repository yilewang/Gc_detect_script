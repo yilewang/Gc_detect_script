{
 "cells": [
  {
   "attachments": {},
   "cell_type": "markdown",
   "metadata": {},
   "source": [
    "### Three minutes TVB simulation. Response to Dr. Solodkin's request\n",
    "\n",
    "1. use the tvb 3 mins simulation results to replace the 1 sec simuation. \n",
    "2. investigate the EPAD data base"
   ]
  },
  {
   "cell_type": "code",
   "execution_count": 1,
   "metadata": {},
   "outputs": [],
   "source": [
    "import numpy as np\n",
    "import pandas as pd\n",
    "import sys\n",
    "sys.path.append('/home/yat-lok/workspace/tvbtools/')\n",
    "from tools import concat"
   ]
  },
  {
   "cell_type": "code",
   "execution_count": 2,
   "metadata": {},
   "outputs": [],
   "source": [
    "prefix_filename = '/home/yat-lok/workspace/data4project/gc3mins/'\n",
    "amp = prefix_filename + 'ampres.xlsx'\n",
    "freq = prefix_filename + 'freqres.xlsx'\n",
    "delay = prefix_filename + 'delayres.xlsx'\n",
    "amp = concat.LI_cal(amp, [3,5], ('LI_amp_gamma', 'LI_amp_theta'))\n",
    "freq = concat.LI_cal(freq, [3,5], ('LI_freq_gamma', 'LI_freq_theta'))\n",
    "delay = pd.read_excel(delay)\n",
    "\n",
    "la3mins = amp.iloc[:,:2]\n",
    "tmp_la = pd.concat([amp.iloc[:,-2:], freq.iloc[:,-2:]], axis=1)\n",
    "la3mins_table = pd.concat([la3mins, tmp_la], axis=1)\n",
    "outdir = prefix_filename + 'la3mins.xlsx'\n",
    "la3mins_table.to_excel(outdir)"
   ]
  }
 ],
 "metadata": {
  "kernelspec": {
   "display_name": "tvbenv",
   "language": "python",
   "name": "python3"
  },
  "language_info": {
   "codemirror_mode": {
    "name": "ipython",
    "version": 3
   },
   "file_extension": ".py",
   "mimetype": "text/x-python",
   "name": "python",
   "nbconvert_exporter": "python",
   "pygments_lexer": "ipython3",
   "version": "3.8.13"
  },
  "orig_nbformat": 4,
  "vscode": {
   "interpreter": {
    "hash": "7d6eff59d82162ad618c2fda16bbe4a2b1e156e75fbd6961cfe85de3ca5351f8"
   }
  }
 },
 "nbformat": 4,
 "nbformat_minor": 2
}
