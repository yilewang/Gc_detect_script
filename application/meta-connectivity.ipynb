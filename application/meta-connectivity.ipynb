{
 "cells": [
  {
   "cell_type": "markdown",
   "metadata": {},
   "source": [
    "Script to do meta-connectivity in two parts. First part: Homotopic connectivity analysis. Second part: cluster analysis"
   ]
  },
  {
   "cell_type": "code",
   "execution_count": null,
   "metadata": {},
   "outputs": [],
   "source": [
    "#!/usr/bin/python\n",
    "from turtle import color\n",
    "import pandas as pd\n",
    "import numpy as np\n",
    "import sys\n",
    "sys.path.append('/mnt/c/Users/Wayne/tvb/Network-science-Toolbox/Python')\n",
    "# sys.path.append('/home/wayne/github/TVB_workflow/new_g_optimal')\n",
    "# sys.path.append('/home/wayne/github/Network-science-Toolbox/Python')\n",
    "from TS2dFCstream import TS2dFCstream\n",
    "from dFCstream2Trimers import dFCstream2Trimers\n",
    "from dFCstream2MC import dFCstream2MC\n",
    "import logging\n",
    "import matplotlib.pyplot as plt\n",
    "import seaborn as sns\n",
    "from scipy.stats.stats import pearsonr\n",
    "import itertools\n",
    "import os\n",
    "import scipy.io\n",
    "\n",
    "\"\"\"\n",
    "@Author: Yile Wang\n",
    "\n",
    "This script is used to calculate the homotopic meta-connectivity in four groups, SNC, NC, MCI, AD\n",
    "\"\"\"\n",
    "\n",
    "# brain region labels for your reference\n",
    "regions = ['aCNG-L', 'aCNG-R','mCNG-L','mCNG-R','pCNG-L','pCNG-R', 'HIP-L','HIP-R','PHG-L','PHG-R','AMY-L','AMY-R', 'sTEMp-L','sTEMP-R','mTEMp-L','mTEMp-R']\n",
    "regionswithgroups = ['groups','aCNG-L', 'aCNG-R','mCNG-L','mCNG-R','pCNG-L','pCNG-R', 'HIP-L','HIP-R','PHG-L','PHG-R','AMY-L','AMY-R', 'sTEMp-L','sTEMP-R','mTEMp-L','mTEMp-R']\n",
    "group = ['SNC', 'NC', 'MCI','AD']\n",
    "regionsHalf = np.array(['aCNG', 'mCNG','pCNG','HIP','PHG','AMY','sTEMp', 'mTEMp'])\n",
    "\n",
    "regions14 = []\n",
    "for i in range(14):\n",
    "    wt = [\"regions_\", str(i)]\n",
    "    wt = \"\".join(wt)\n",
    "    regions14.append(wt)\n",
    "\n",
    "# iterate simulated functional connectivity\n",
    "if __name__ == \"__main__\":\n",
    "    Trimer_Homo = pd.DataFrame(columns=['groups','trimer_homo','aCNG','mCNG','pCNG','HIP','PHG','AMY','sTEMp','mTEMp' ])\n",
    "    Trimer_Hetero  = pd.DataFrame(columns=['groups','trimer_hetero','aCNG','mCNG','pCNG','HIP','PHG','AMY','sTEMp','mTEMp' ])\n",
    "    Trimer = pd.DataFrame()\n",
    "    \n",
    "    for grp in group:\n",
    "        # subject case ids\n",
    "        ldir = os.listdir(\"/mnt/c/Users/Wayne/tvb/TS-4-Vik/\"+ grp+'-TS')\n",
    "        # ldir = os.listdir('/home/wayne/TS-4-Vik/'+grp+'-TS/')\n",
    "        MC_all = np.zeros((16,16, 16, len(ldir)))\n",
    "        tmp_homo = np.array([])\n",
    "        homoRegions = np.ones((1,len(regionsHalf)))\n",
    "        for ind, y in enumerate(ldir):\n",
    "            # import empirical functional connectivity\n",
    "            # Here is the path of the mat file of the FC data\n",
    "            pth_efc = \"/mnt/c/Users/Wayne/tvb/TS-4-Vik/\"+ grp+'-TS/'+ y +\"/ROISignals_\"+ y +\".mat\"\n",
    "            # pth_efc = \"/home/wayne/TS-4-Vik/\"+grp+\"-TS/\"+ y +\"/ROISignals_\"+ y +\".mat\"\n",
    "            ea = scipy.io.loadmat(pth_efc)\n",
    "            all = ea['ROISignals']\n",
    "            df = pd.DataFrame.from_dict(all)\n",
    "            df.columns = regions\n",
    "            # calculate the meta-connectivity, using existing script:\n",
    "            dFCstream = TS2dFCstream(df.to_numpy(), 5, None, '2D')\n",
    "            # Calculate MC\n",
    "            MC_MC = dFCstream2MC(dFCstream)\n",
    "            # Calculate Trimers results, with nxnxn information\n",
    "            MC_Trimers = dFCstream2Trimers(dFCstream)\n",
    "            MC_all[:,:,:,ind] = MC_Trimers\n",
    "        MC_homo = np.mean(MC_all, 3)\n",
    "        MC_single_groups = np.zeros((14, 8))\n",
    "        # only pick up L sides of the regions\n",
    "        for idnx, i in enumerate(range(0,15,2)):\n",
    "            j = i+1 # represent R side\n",
    "            newList = list(range(16))\n",
    "            del newList[i:j+1] # drop the target regions L and R\n",
    "            for idx, restNode in enumerate(newList):\n",
    "                MC_single_groups[idx,idnx] = MC_homo[i,j,restNode] # In rest of the 14 regions, iternate the third dimensions, and pick up the homotopic MC\n",
    "        MC_single = pd.DataFrame(MC_single_groups, index=regions14, columns=regionsHalf)\n",
    "        grpInfo = [grp] * 14\n",
    "        MC_single.insert(0, \"group\", grpInfo)\n",
    "        Trimer = Trimer.append(MC_single)\n",
    "    print(Trimer)\n",
    "    # Trimer.to_excel(\"/mnt/c/Users/Wayne/tvb/gc1sec_res/mc_homo.xlsx\")"
   ]
  },
  {
   "cell_type": "code",
   "execution_count": null,
   "metadata": {},
   "outputs": [],
   "source": [
    "# calculate the cluster\n"
   ]
  }
 ],
 "metadata": {
  "kernelspec": {
   "display_name": "Python 3.8.13 ('tvbenv')",
   "language": "python",
   "name": "python3"
  },
  "language_info": {
   "codemirror_mode": {
    "name": "ipython",
    "version": 3
   },
   "file_extension": ".py",
   "mimetype": "text/x-python",
   "name": "python",
   "nbconvert_exporter": "python",
   "pygments_lexer": "ipython3",
   "version": "3.8.13"
  },
  "orig_nbformat": 4,
  "vscode": {
   "interpreter": {
    "hash": "d3c26eedd07840027ff202a94d88c89e67a86d8b5dcd58f087e1d46a589dbbcf"
   }
  }
 },
 "nbformat": 4,
 "nbformat_minor": 2
}
