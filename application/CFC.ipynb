{
 "cells": [
  {
   "cell_type": "code",
   "execution_count": null,
   "metadata": {},
   "outputs": [],
   "source": [
    "import numpy as np\n",
    "import matplotlib.pyplot as plt\n",
    "from scipy import signal\n",
    "import pandas as pd\n",
    "import sys\n",
    "sys.path.append('/home/yat-lok/workspace/tvbtools/')\n",
    "from tools.signaltools import SignalToolkit\n",
    "import ipywidgets as widgets\n",
    "my_layout = widgets.Layout()\n",
    "import typing\n",
    "from typing import List\n",
    "import seaborn as sns"
   ]
  },
  {
   "cell_type": "code",
   "execution_count": null,
   "metadata": {},
   "outputs": [],
   "source": [
    "# read data\n",
    "filename = '/mnt/d/data/LFP/SNC/2820A/2820A_0.014.csv'\n",
    "df = pd.read_csv(filename)\n",
    "df_left = df.iloc[1024:,4]\n",
    "df_right = df.iloc[1024:,6]\n",
    "# # visualize results\n",
    "fig = plt.figure()\n",
    "axes = fig.add_subplot(211)\n",
    "axes.plot(df_left)\n",
    "axes.plot(df_right)\n",
    "plt.show()\n"
   ]
  },
  {
   "cell_type": "code",
   "execution_count": null,
   "metadata": {},
   "outputs": [],
   "source": [
    "y = SignalToolkit.sos_filter(df_left, [10,60], 81920)\n",
    "plt.plot(df_left)\n",
    "plt.plot(y)\n",
    "plt.show()"
   ]
  },
  {
   "cell_type": "code",
   "execution_count": null,
   "metadata": {},
   "outputs": [],
   "source": [
    "print(SignalToolkit.PAC(df_right, [2,10], [30,120], fs=81920))\n",
    "print(SignalToolkit.PAC(df_left, [2,10], [30,120], fs=81920))\n",
    "# SignalToolkit.PAC_comodulogram(df_right, [2,20,1],[30, 200, 5], fs=81920)\n",
    "# SignalToolkit.PAC_comodulogram(df_left, [2,20,1],[30, 200, 5], fs=81920)\n"
   ]
  },
  {
   "cell_type": "code",
   "execution_count": null,
   "metadata": {},
   "outputs": [],
   "source": [
    "# %matplotlib widget\n",
    "# # hilbert transform\n",
    "# # step 1, get the amplitude envelop of high freq\n",
    "# h1=signal.hilbert(df_left_high)\n",
    "# amplitude_envelope = np.abs(h1)\n",
    "\n",
    "# # step 2, get the phase information of low freq\n",
    "# l1 = signal.hilbert(df_left_low)\n",
    "# phase_y1=np.angle(l1)\n",
    "\n",
    "# # step 3 bin the phase\n",
    "# cycle = len(l1)/360\n",
    "# stamp = range(int(cycle))\n",
    "# phase_amp = []\n",
    "# for i in stamp:\n",
    "#     amp_value = np.mean(amplitude_envelope[i*360:(i+1)*360])\n",
    "#     phase_amp.append(amp_value)\n",
    "# # step 4, entropy method H\n",
    "# p_j = [p_j_single/np.sum(phase_amp) for p_j_single in phase_amp]\n",
    "# cap_H = -np.sum(p_j * np.log(p_j))\n",
    "\n",
    "# # step 5, calculate the MI\n",
    "# MI = (np.log(len(stamp))-cap_H) / np.log(len(stamp))\n",
    "# print(MI)\n",
    "\n",
    "# x_axes1 = [*stamp]\n",
    "\n",
    "# fig = plt.figure()\n",
    "# axes1 = fig.add_subplot(221)\n",
    "# axes1.bar(x_axes1, phase_amp)\n",
    "\n",
    "# # graph 2\n",
    "# axes2 = fig.add_subplot(222)\n",
    "# axes2.set_title(\"raw plot with low and high \\nfrequency bands signal\")\n",
    "# axes2.plot(df_left)\n",
    "# axes2.plot(df_left_low)\n",
    "# axes2.plot(df_left_high)\n",
    "\n",
    "# axes3 = fig.add_subplot(223)\n",
    "# axes3.plot(df_left_high)\n",
    "# axes3.plot(amplitude_envelope)\n",
    "\n",
    "# axes4 = fig.add_subplot(224)\n",
    "# axes4.plot(df_left_low)\n",
    "# axes4.plot(phase_y1, \"o\")\n",
    "# plt.show()"
   ]
  }
 ],
 "metadata": {
  "kernelspec": {
   "display_name": "Python 3.8.13 ('tvbenv')",
   "language": "python",
   "name": "python3"
  },
  "language_info": {
   "codemirror_mode": {
    "name": "ipython",
    "version": 3
   },
   "file_extension": ".py",
   "mimetype": "text/x-python",
   "name": "python",
   "nbconvert_exporter": "python",
   "pygments_lexer": "ipython3",
   "version": "3.8.13"
  },
  "orig_nbformat": 4,
  "vscode": {
   "interpreter": {
    "hash": "d3c26eedd07840027ff202a94d88c89e67a86d8b5dcd58f087e1d46a589dbbcf"
   }
  }
 },
 "nbformat": 4,
 "nbformat_minor": 2
}
