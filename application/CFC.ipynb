{
 "cells": [
  {
   "cell_type": "code",
   "execution_count": 1,
   "metadata": {},
   "outputs": [],
   "source": [
    "import numpy as np\n",
    "import matplotlib.pyplot as plt\n",
    "from scipy import signal\n",
    "import pandas as pd\n",
    "import sys\n",
    "sys.path.append('/home/yat-lok/workspace/tvbtools/')\n",
    "from tools.signaltools import SignalToolkit\n",
    "import ipywidgets as widgets\n",
    "my_layout = widgets.Layout()\n",
    "import typing\n",
    "from typing import List\n",
    "import seaborn as sns"
   ]
  },
  {
   "cell_type": "code",
   "execution_count": 2,
   "metadata": {},
   "outputs": [
    {
     "data": {
      "image/png": "[encoded data removed]",
      "text/plain": [
       "<Figure size 432x288 with 1 Axes>"
      ]
     },
     "metadata": {
      "needs_background": "light"
     },
     "output_type": "display_data"
    }
   ],
   "source": [
    "# read data\n",
    "filename = '/mnt/d/data/LFP/SNC/2820A/2820A_0.014.csv'\n",
    "df = pd.read_csv(filename)\n",
    "df_left = df.iloc[1024:,4]\n",
    "df_right = df.iloc[1024:,6]\n",
    "# # visualize results\n",
    "fig = plt.figure()\n",
    "axes = fig.add_subplot(211)\n",
    "axes.plot(df_left)\n",
    "axes.plot(df_right)\n",
    "plt.show()\n"
   ]
  },
  {
   "cell_type": "code",
   "execution_count": 3,
   "metadata": {},
   "outputs": [
    {
     "data": {
      "image/png": "[encoded data removed]",
      "text/plain": [
       "<Figure size 432x288 with 1 Axes>"
      ]
     },
     "metadata": {
      "needs_background": "light"
     },
     "output_type": "display_data"
    }
   ],
   "source": [
    "y = SignalToolkit.sos_filter(df_left, [10,60], 81920)\n",
    "plt.plot(df_left)\n",
    "plt.plot(y)\n",
    "plt.show()"
   ]
  },
  {
   "cell_type": "code",
   "execution_count": 4,
   "metadata": {},
   "outputs": [
    {
     "name": "stdout",
     "output_type": "stream",
     "text": [
      "0.058247841877160096\n",
      "0.031876791167568676\n"
     ]
    }
   ],
   "source": [
    "print(SignalToolkit.PAC(df_right, [2,10], [10,60], fs=81920))\n",
    "print(SignalToolkit.PAC(df_left, [2,10], [10,60], fs=81920))\n",
    "# SignalToolkit.PAC_comodulogram(df_right, [2,20,1],[30, 200, 5], fs=81920)\n",
    "# SignalToolkit.PAC_comodulogram(df_left, [2,20,1],[30, 200, 5], fs=81920)\n"
   ]
  },
  {
   "cell_type": "code",
   "execution_count": 5,
   "metadata": {},
   "outputs": [
    {
     "ename": "NameError",
     "evalue": "name 'PAC_comodulogram' is not defined",
     "output_type": "error",
     "traceback": [
      "\u001b[0;31m---------------------------------------------------------------------------\u001b[0m",
      "\u001b[0;31mNameError\u001b[0m                                 Traceback (most recent call last)",
      "\u001b[1;32m/home/yat-lok/workspace/tvbtools/application/CFC.ipynb Cell 5\u001b[0m in \u001b[0;36m<cell line: 23>\u001b[0;34m()\u001b[0m\n\u001b[1;32m     <a href='vscode-notebook-cell://wsl%2Bubuntu-22.04/home/yat-lok/workspace/tvbtools/application/CFC.ipynb#ch0000005vscode-remote?line=16'>17</a>\u001b[0m noise_level \u001b[39m=\u001b[39m \u001b[39m0.4\u001b[39m\n\u001b[1;32m     <a href='vscode-notebook-cell://wsl%2Bubuntu-22.04/home/yat-lok/workspace/tvbtools/application/CFC.ipynb#ch0000005vscode-remote?line=18'>19</a>\u001b[0m signala \u001b[39m=\u001b[39m simulate_pac(n_points\u001b[39m=\u001b[39mn_points, fs\u001b[39m=\u001b[39mfs, high_fq\u001b[39m=\u001b[39mhigh_fq, low_fq\u001b[39m=\u001b[39mlow_fq,\n\u001b[1;32m     <a href='vscode-notebook-cell://wsl%2Bubuntu-22.04/home/yat-lok/workspace/tvbtools/application/CFC.ipynb#ch0000005vscode-remote?line=19'>20</a>\u001b[0m                       low_fq_width\u001b[39m=\u001b[39mlow_fq_width, noise_level\u001b[39m=\u001b[39mnoise_level,\n\u001b[1;32m     <a href='vscode-notebook-cell://wsl%2Bubuntu-22.04/home/yat-lok/workspace/tvbtools/application/CFC.ipynb#ch0000005vscode-remote?line=20'>21</a>\u001b[0m                       random_state\u001b[39m=\u001b[39m\u001b[39m0\u001b[39m)\n\u001b[0;32m---> <a href='vscode-notebook-cell://wsl%2Bubuntu-22.04/home/yat-lok/workspace/tvbtools/application/CFC.ipynb#ch0000005vscode-remote?line=22'>23</a>\u001b[0m PAC_comodulogram(signala, [\u001b[39m2\u001b[39m,\u001b[39m20\u001b[39m,\u001b[39m2\u001b[39m],[\u001b[39m30\u001b[39m, \u001b[39m90\u001b[39m, \u001b[39m10\u001b[39m], fs\u001b[39m=\u001b[39m\u001b[39m200\u001b[39m)\n\u001b[1;32m     <a href='vscode-notebook-cell://wsl%2Bubuntu-22.04/home/yat-lok/workspace/tvbtools/application/CFC.ipynb#ch0000005vscode-remote?line=24'>25</a>\u001b[0m \u001b[39m# signala = df_left\u001b[39;00m\n\u001b[1;32m     <a href='vscode-notebook-cell://wsl%2Bubuntu-22.04/home/yat-lok/workspace/tvbtools/application/CFC.ipynb#ch0000005vscode-remote?line=26'>27</a>\u001b[0m low_fq_range \u001b[39m=\u001b[39m np\u001b[39m.\u001b[39mlinspace(\u001b[39m1\u001b[39m, \u001b[39m10\u001b[39m, \u001b[39m50\u001b[39m)\n",
      "\u001b[0;31mNameError\u001b[0m: name 'PAC_comodulogram' is not defined"
     ]
    }
   ],
   "source": [
    "########\n",
    "# test #\n",
    "########\n",
    "\n",
    "import numpy as np\n",
    "import matplotlib.pyplot as plt\n",
    "\n",
    "from pactools import Comodulogram, REFERENCES\n",
    "from pactools import simulate_pac\n",
    "\n",
    "fs = 200.  # Hz\n",
    "high_fq = 50.0  # Hz\n",
    "low_fq = 5.0  # Hz\n",
    "low_fq_width = 1.0  # Hz\n",
    "\n",
    "n_points = 10000\n",
    "noise_level = 0.4\n",
    "\n",
    "signala = simulate_pac(n_points=n_points, fs=fs, high_fq=high_fq, low_fq=low_fq,\n",
    "                      low_fq_width=low_fq_width, noise_level=noise_level,\n",
    "                      random_state=0)\n",
    "\n",
    "SignalToolkit.PAC_comodulogram(signala, [2,20,2],[30, 90, 10], fs=200)\n",
    "\n",
    "# signala = df_left\n",
    "\n",
    "low_fq_range = np.linspace(1, 10, 50)\n",
    "methods = [\n",
    "    'ozkurt', 'canolty', 'tort', 'penny', 'vanwijk', 'duprelatour', 'colgin',\n",
    "    'sigl', 'bispectrum'\n",
    "]\n",
    "\n",
    "\n",
    "# Define the subplots where the comodulogram will be plotted\n",
    "n_lines = 3\n",
    "n_columns = int(np.ceil(len(methods) / float(n_lines)))\n",
    "fig, axs = plt.subplots(\n",
    "    n_lines, n_columns, figsize=(4 * n_columns, 3 * n_lines))\n",
    "axs = axs.ravel()\n",
    "\n",
    "\n",
    "# Compute the comodulograms and plot them\n",
    "for ax, method in zip(axs, methods):\n",
    "    print('%s... ' % (method, ))\n",
    "    estimator = Comodulogram(fs=fs, low_fq_range=low_fq_range,\n",
    "                             low_fq_width=low_fq_width, method=method,\n",
    "                             progress_bar=False)\n",
    "    estimator.fit(signala)\n",
    "    estimator.plot(titles=[REFERENCES[method]], axs=[ax])\n",
    "\n",
    "plt.show()"
   ]
  },
  {
   "cell_type": "code",
   "execution_count": null,
   "metadata": {},
   "outputs": [],
   "source": [
    "# %matplotlib widget\n",
    "# # hilbert transform\n",
    "# # step 1, get the amplitude envelop of high freq\n",
    "# h1=signal.hilbert(df_left_high)\n",
    "# amplitude_envelope = np.abs(h1)\n",
    "\n",
    "# # step 2, get the phase information of low freq\n",
    "# l1 = signal.hilbert(df_left_low)\n",
    "# phase_y1=np.angle(l1)\n",
    "\n",
    "# # step 3 bin the phase\n",
    "# cycle = len(l1)/360\n",
    "# stamp = range(int(cycle))\n",
    "# phase_amp = []\n",
    "# for i in stamp:\n",
    "#     amp_value = np.mean(amplitude_envelope[i*360:(i+1)*360])\n",
    "#     phase_amp.append(amp_value)\n",
    "# # step 4, entropy method H\n",
    "# p_j = [p_j_single/np.sum(phase_amp) for p_j_single in phase_amp]\n",
    "# cap_H = -np.sum(p_j * np.log(p_j))\n",
    "\n",
    "# # step 5, calculate the MI\n",
    "# MI = (np.log(len(stamp))-cap_H) / np.log(len(stamp))\n",
    "# print(MI)\n",
    "\n",
    "# x_axes1 = [*stamp]\n",
    "\n",
    "# fig = plt.figure()\n",
    "# axes1 = fig.add_subplot(221)\n",
    "# axes1.bar(x_axes1, phase_amp)\n",
    "\n",
    "# # graph 2\n",
    "# axes2 = fig.add_subplot(222)\n",
    "# axes2.set_title(\"raw plot with low and high \\nfrequency bands signal\")\n",
    "# axes2.plot(df_left)\n",
    "# axes2.plot(df_left_low)\n",
    "# axes2.plot(df_left_high)\n",
    "\n",
    "# axes3 = fig.add_subplot(223)\n",
    "# axes3.plot(df_left_high)\n",
    "# axes3.plot(amplitude_envelope)\n",
    "\n",
    "# axes4 = fig.add_subplot(224)\n",
    "# axes4.plot(df_left_low)\n",
    "# axes4.plot(phase_y1, \"o\")\n",
    "# plt.show()"
   ]
  }
 ],
 "metadata": {
  "kernelspec": {
   "display_name": "Python 3.8.13 ('tvbenv')",
   "language": "python",
   "name": "python3"
  },
  "language_info": {
   "codemirror_mode": {
    "name": "ipython",
    "version": 3
   },
   "file_extension": ".py",
   "mimetype": "text/x-python",
   "name": "python",
   "nbconvert_exporter": "python",
   "pygments_lexer": "ipython3",
   "version": "3.8.13"
  },
  "orig_nbformat": 4,
  "vscode": {
   "interpreter": {
    "hash": "d3c26eedd07840027ff202a94d88c89e67a86d8b5dcd58f087e1d46a589dbbcf"
   }
  }
 },
 "nbformat": 4,
 "nbformat_minor": 2
}
