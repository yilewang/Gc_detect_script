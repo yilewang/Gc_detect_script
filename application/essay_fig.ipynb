{
 "cells": [
  {
   "cell_type": "code",
   "execution_count": 1,
   "metadata": {},
   "outputs": [],
   "source": [
    "import sys\n",
    "sys.path.append(\"/home/yat-lok/workspace/tvbtools\")\n",
    "from tools.signaltools import SignalToolkit\n",
    "import numpy as np\n",
    "import pandas as pd\n",
    "import matplotlib.pyplot as plt\n",
    "from scipy import signal\n",
    "#plt.style.use('ggplot')\n",
    "node_names = ['aCNG-L', 'aCNG-R','mCNG-L','mCNG-R','pCNG-L','pCNG-R', 'HIP-L','HIP-R','PHG-L','PHG-R','AMY-L','AMY-R', 'sTEMp-L','sTEMP-R','mTEMp-L','mTEMp-R']"
   ]
  },
  {
   "cell_type": "code",
   "execution_count": 1,
   "metadata": {},
   "outputs": [
    {
     "ename": "NameError",
     "evalue": "name 'plt' is not defined",
     "output_type": "error",
     "traceback": [
      "\u001b[0;31m---------------------------------------------------------------------------\u001b[0m",
      "\u001b[0;31mNameError\u001b[0m                                 Traceback (most recent call last)",
      "\u001b[1;32m/home/yat-lok/workspace/tvbtools/application/essay_fig.ipynb Cell 2\u001b[0m in \u001b[0;36m<cell line: 30>\u001b[0;34m()\u001b[0m\n\u001b[1;32m     <a href='vscode-notebook-cell://wsl%2Bubuntu-22.04/home/yat-lok/workspace/tvbtools/application/essay_fig.ipynb#W1sdnNjb2RlLXJlbW90ZQ%3D%3D?line=26'>27</a>\u001b[0m grps\u001b[39m=\u001b[39m [\u001b[39m'\u001b[39m\u001b[39mSNC\u001b[39m\u001b[39m'\u001b[39m,\u001b[39m'\u001b[39m\u001b[39mNC\u001b[39m\u001b[39m'\u001b[39m,\u001b[39m'\u001b[39m\u001b[39mMCI\u001b[39m\u001b[39m'\u001b[39m,\u001b[39m'\u001b[39m\u001b[39mAD\u001b[39m\u001b[39m'\u001b[39m]\n\u001b[1;32m     <a href='vscode-notebook-cell://wsl%2Bubuntu-22.04/home/yat-lok/workspace/tvbtools/application/essay_fig.ipynb#W1sdnNjb2RlLXJlbW90ZQ%3D%3D?line=27'>28</a>\u001b[0m keynum \u001b[39m=\u001b[39m [\u001b[39m221\u001b[39m,\u001b[39m222\u001b[39m,\u001b[39m223\u001b[39m,\u001b[39m224\u001b[39m]\n\u001b[0;32m---> <a href='vscode-notebook-cell://wsl%2Bubuntu-22.04/home/yat-lok/workspace/tvbtools/application/essay_fig.ipynb#W1sdnNjb2RlLXJlbW90ZQ%3D%3D?line=29'>30</a>\u001b[0m fig \u001b[39m=\u001b[39m plt\u001b[39m.\u001b[39mfigure(figsize\u001b[39m=\u001b[39m(\u001b[39m15\u001b[39m,\u001b[39m7\u001b[39m), dpi\u001b[39m=\u001b[39m\u001b[39m300\u001b[39m)\n\u001b[1;32m     <a href='vscode-notebook-cell://wsl%2Bubuntu-22.04/home/yat-lok/workspace/tvbtools/application/essay_fig.ipynb#W1sdnNjb2RlLXJlbW90ZQ%3D%3D?line=30'>31</a>\u001b[0m \u001b[39mfor\u001b[39;00m casid, grp, key \u001b[39min\u001b[39;00m \u001b[39mzip\u001b[39m(caseids, grps, keynum):\n\u001b[1;32m     <a href='vscode-notebook-cell://wsl%2Bubuntu-22.04/home/yat-lok/workspace/tvbtools/application/essay_fig.ipynb#W1sdnNjb2RlLXJlbW90ZQ%3D%3D?line=31'>32</a>\u001b[0m     fig4paper_ts(casid, grp, key, fig)\n",
      "\u001b[0;31mNameError\u001b[0m: name 'plt' is not defined"
     ]
    }
   ],
   "source": [
    "def fig4paper_ts(caseid, grp, key, fig):\n",
    "    path = '/home/yat-lok/workspace/data4project/lateralization/tvb_parameters.xlsx'\n",
    "    coData = pd.read_excel(path)\n",
    "    gm = np.round(coData.loc[coData['caseid'] == caseid, 'Gc'].item(), 3)\n",
    "    filename = '/home/yat-lok/workspace/data4project/lateralization/LFP_critical/'+str(grp)+'/'+str(caseid)+'_'+str(gm)+'.csv'\n",
    "    # filename = '/mnt/w/gc3mins/'+grp+'/'+caseid+'.h5'\n",
    "    df = pd.read_csv(filename)\n",
    "    \n",
    "    axes = fig.add_subplot(key)\n",
    "    axes.set_title(grp, loc=\"left\")\n",
    "    axes.set_yticks([])\n",
    "    #axes.spines['left'].set_visible(False)\n",
    "    axes.spines['top'].set_visible(False)\n",
    "    axes.spines['right'].set_visible(False)\n",
    "    if grp in [\"MCI\",\"AD\"]:\n",
    "        axes.set_xlabel(\"time/s\")\n",
    "    li = [4,5,0,1,2,3,6,7,8,9,10,11,12,13,14,15]\n",
    "    for i in li:\n",
    "        if grp in ['AD'] and node_names[i] in ['pCNG-L', 'pCNG-R']:\n",
    "            axes.plot(np.arange(0,1,1/81920)[1000:], df.loc[:,node_names[i]][1000:],label = node_names[i], alpha=0.8)\n",
    "        else:\n",
    "            axes.plot(np.arange(0,1,1/81920)[1000:], df.loc[:,node_names[i]][1000:], alpha=0.8)\n",
    "    plt.legend(loc=\"lower right\")\n",
    "\n",
    "\n",
    "caseids = [\"4849A\", \"1318A\", \"7827A\", \"1477A\"]\n",
    "grps= ['SNC','NC','MCI','AD']\n",
    "keynum = [221,222,223,224]\n",
    "\n",
    "fig = plt.figure(figsize=(15,7), dpi=300)\n",
    "for casid, grp, key in zip(caseids, grps, keynum):\n",
    "    fig4paper_ts(casid, grp, key, fig)"
   ]
  },
  {
   "cell_type": "code",
   "execution_count": 3,
   "metadata": {},
   "outputs": [],
   "source": [
    "# def fig4paper_ts(caseid, grp, key, fig):\n",
    "#     path = '/mnt/c/Users/Wayne/tvb/stat_data/Gc_Go.xlsx'\n",
    "#     coData = pd.read_excel(path)\n",
    "#     gm = np.round(coData.loc[coData['caseid'] == caseid, 'Gc'].item(), 3)\n",
    "#     filename = '/mnt/d/data/LFP/'+str(grp)+'/'+str(caseid)+'/'+str(caseid)+'_'+str(gm)+'.csv'\n",
    "#     # filename = '/mnt/w/gc3mins/'+grp+'/'+caseid+'.h5'\n",
    "#     df = pd.read_csv(filename)\n",
    "    \n",
    "#     axes = fig.add_subplot(key)\n",
    "#     axes.set_title(f\"{grp}_{caseid}\")\n",
    "#     for i in range(16):\n",
    "#         Wn = [2,10]\n",
    "#         fNQ = 81920/2\n",
    "#         n=2048\n",
    "#         b = signal.firwin(n, Wn, nyq=fNQ, pass_zero=False, window='hamming');\n",
    "#         Vlo = signal.filtfilt(b, 1, df.loc[:,node_names[i]]);   # ... and apply it to the data.\n",
    "#         # b = signal.firwin(n, Wn, nyq=fNQ, pass_zero=False, window='hamming');\n",
    "#         # Vhi = signal.filtfilt(b, 1, df.loc[:,node_names[i]]);   # ... and apply it to the data.\n",
    "#         Vlo = SignalToolkit.hamming_filter(data = df.loc[:,node_names[i]], n=4096)\n",
    "#         Vhi = SignalToolkit.hamming_filter(data=df.loc[:,node_names[i]], Wn = [10, 60], n=4096)\n",
    "#         # phi = signal.angle(signal.hilbert(Vlo))  # Compute phase of low-freq signal\n",
    "#         # amp = abs(signal.hilbert(Vhi))       # Compute amplitude of high-freq signal\n",
    "#         if node_names[i] in ['pCNG-L', 'pCNG-R']:\n",
    "#             axes.plot(np.arange(0,1,1/81920), Vlo, label=f\"theta_{node_names[i]}\")\n",
    "#             axes.plot(np.arange(0,1,1/81920), Vhi, label=f\"gamma_{node_names[i]}\")\n",
    "#             axes.plot(np.arange(0,1,1/81920), df.loc[:,node_names[i]], label=node_names[i], alpha=0.5)\n",
    "#         # else:\n",
    "#         #     axes.plot(np.arange(0,1,1/81920),df.loc[:,node_names[i]])\n",
    "#     plt.legend()\n",
    "\n",
    "\n",
    "# caseids = [\"4849A\", \"0318A\", \"7827A\", \"1477A\"]\n",
    "# grps= ['SNC','NC','MCI','AD']\n",
    "# keynum = [221,222,223,224]\n",
    "\n",
    "# fig = plt.figure(figsize=(15,7), dpi=300)\n",
    "# for casid, grp, key in zip(caseids, grps, keynum):\n",
    "#     fig4paper_ts(casid, grp, key, fig)"
   ]
  }
 ],
 "metadata": {
  "kernelspec": {
   "display_name": "Python 3.8.13 ('tvbenv')",
   "language": "python",
   "name": "python3"
  },
  "language_info": {
   "codemirror_mode": {
    "name": "ipython",
    "version": 3
   },
   "file_extension": ".py",
   "mimetype": "text/x-python",
   "name": "python",
   "nbconvert_exporter": "python",
   "pygments_lexer": "ipython3",
   "version": "3.8.13"
  },
  "orig_nbformat": 4,
  "vscode": {
   "interpreter": {
    "hash": "d3c26eedd07840027ff202a94d88c89e67a86d8b5dcd58f087e1d46a589dbbcf"
   }
  }
 },
 "nbformat": 4,
 "nbformat_minor": 2
}
