{
 "cells": [
  {
   "cell_type": "markdown",
   "metadata": {},
   "source": [
    "### Analysis of demographic data for lateralization project\n"
   ]
  },
  {
   "cell_type": "code",
   "execution_count": null,
   "metadata": {},
   "outputs": [],
   "source": [
    "import pandas as pd\n",
    "import numpy as np\n",
    "import matplotlib.pyplot as plt"
   ]
  },
  {
   "cell_type": "code",
   "execution_count": null,
   "metadata": {},
   "outputs": [],
   "source": [
    "# read the spss data\n",
    "path = \"/home/yat-lok/workspace/data4project/lateralization/demographic_data/\"\n",
    "file = \"M_basicDescriptives_v20160906.sav\"\n",
    "spss = pd.read_spss(path+file)\n",
    "print(spss)"
   ]
  }
 ],
 "metadata": {
  "kernelspec": {
   "display_name": "Python 3.9.12 ('base')",
   "language": "python",
   "name": "python3"
  },
  "language_info": {
   "name": "python",
   "version": "3.9.12"
  },
  "orig_nbformat": 4,
  "vscode": {
   "interpreter": {
    "hash": "11912b44ed33390f4920ac75a87653d53983878b2f3adc7c123f9f0e252dec13"
   }
  }
 },
 "nbformat": 4,
 "nbformat_minor": 2
}
